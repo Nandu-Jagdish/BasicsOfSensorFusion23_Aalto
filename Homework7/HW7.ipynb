{
 "cells": [
  {
   "cell_type": "markdown",
   "id": "91580104-c47d-4dc8-b80c-48fc36bbf43f",
   "metadata": {},
   "source": [
    "# Homework 7 (DL Friday, November 10 at 12:00 PM)\n",
    "#### ELEC-E8740 - Basics of sensor fusion - Autumn 2023"
   ]
  },
  {
   "cell_type": "code",
   "execution_count": null,
   "id": "769778ae-a47e-4bd4-91d2-f2ec5c8cadcf",
   "metadata": {
    "tags": []
   },
   "outputs": [],
   "source": [
    "import numpy as np\n",
    "import matplotlib.pyplot as plt"
   ]
  },
  {
   "cell_type": "markdown",
   "id": "49d81cda-ea5e-4b14-be80-16d88a00dbee",
   "metadata": {},
   "source": [
    "## Question: Consider the noise-free 2D robot dynamics equations\n",
    "\n",
    "\\begin{align}\n",
    "\\dot{p}^x(t) &= v(t) \\cos( \\phi(t)), \\\\\n",
    "\\dot{p}^y(t) &= v(t) sin(\\phi(t)), \\\\\n",
    "\\dot{\\phi}(t) &= \\omega_{gyro}(t),\n",
    "\\end{align}\n",
    "\n",
    "\n",
    "\n",
    "## where $p^x$, $p^y$ is the position, $\\phi$ is the orientation angle, $v$ is the speed input, and $\\omega_{gyro}$ is the gyroscope reading."
   ]
  },
  {
   "cell_type": "markdown",
   "id": "0861242a-1088-4579-8001-a3a97134b5d6",
   "metadata": {},
   "source": [
    "### Part a (1 point): Assume that the robot starts at time $t = 0$ from origin, heading upwards, that is, towards the positive y values. What should be the initial conditions, $p^x(0), p^y(0), \\phi(0)$, corresponding to this? \n",
    "\n",
    "In the section below, code your answer. The output of the 'initial_condition()' function is 'px_0, py_0, phi_0'. Please do not change the order of the output.  "
   ]
  },
  {
   "cell_type": "code",
   "execution_count": null,
   "id": "527a3448-c79c-4fd6-8b63-4b1f7c71eafd",
   "metadata": {
    "deletable": false,
    "nbgrader": {
     "cell_type": "code",
     "checksum": "da904674d5c99b87cbfc9bcb2d61a2da",
     "grade": false,
     "grade_id": "cell-bebd772ce92374e6",
     "locked": false,
     "schema_version": 3,
     "solution": true,
     "task": false
    },
    "tags": []
   },
   "outputs": [],
   "source": [
    "def initial_conditions():\n",
    "    # Provide your answer as\n",
    "    # px_0 = ...\n",
    "    # py_0 = ...\n",
    "    # phi_0 = ...\n",
    "    # YOUR CODE HERE\n",
    "    raise NotImplementedError()\n",
    "    return np.array([px_0, py_0, phi_0])  # do not change this line"
   ]
  },
  {
   "cell_type": "code",
   "execution_count": null,
   "id": "63f35f0c-2361-48f6-8dc5-90ae7ec9e1ad",
   "metadata": {
    "deletable": false,
    "editable": false,
    "nbgrader": {
     "cell_type": "code",
     "checksum": "ed6dfcb278a3a305dfbabf312ee538d5",
     "grade": true,
     "grade_id": "cell-9eda250893a32428",
     "locked": true,
     "points": 1,
     "schema_version": 3,
     "solution": false,
     "task": false
    },
    "tags": []
   },
   "outputs": [],
   "source": []
  },
  {
   "cell_type": "markdown",
   "id": "79e85197-8886-4413-9515-bcc77cdf29a2",
   "metadata": {},
   "source": [
    "### Part b (2 points): Construct speed and gyroscope signals which correspond to the following movement:\n",
    "\n",
    "• The speed is constant $v(t) = 2$ for the time interval $t \\in [0, 10]$ and\n",
    "zero otherwise.\n",
    "\n",
    "• The orientation of the robot is upwards (and thus it moves up) in\n",
    "all time moments except during $t \\in [3, 7)$ when it does a $360$-degree\n",
    "turn clockwise."
   ]
  },
  {
   "cell_type": "markdown",
   "id": "235bcb6b-fa63-4e41-9106-65508aeaf7b8",
   "metadata": {
    "tags": []
   },
   "source": [
    "#### In the section below, code your answer. The output of the 'inputs_u(t_0, t_end, N)' function is 'u' with two columns. The first column corresponds to the speed, $v$. The second column corresponds to the angular velocity of the robot, $\\omega$.\n",
    "\n",
    "#### Hint: pay attention to the definition of angular velocity.\n"
   ]
  },
  {
   "cell_type": "code",
   "execution_count": null,
   "id": "a214b64d-b7c7-44a6-8c9b-0d6c6db461a3",
   "metadata": {
    "deletable": false,
    "nbgrader": {
     "cell_type": "code",
     "checksum": "e27a044681d7e1306ded99801cb4587a",
     "grade": false,
     "grade_id": "cell-738abebdb7922073",
     "locked": false,
     "schema_version": 3,
     "solution": true,
     "task": false
    },
    "tags": []
   },
   "outputs": [],
   "source": [
    "def inputs_u(t_0, t_end, N):\n",
    "    \"\"\" \n",
    "    Implement the inputs: speed and angular velocity of the robot\n",
    "    -------\n",
    "    Input:\n",
    "        t_0: starting time\n",
    "        t_end: ending time\n",
    "        N: number of step\n",
    "    Output:\n",
    "        u: inputs\n",
    "        \n",
    "    \"\"\"\n",
    "    # time horizon\n",
    "    t = np.linspace(t_0, t_end, N)\n",
    "    \n",
    "    # inputs u vector\n",
    "    u = np.zeros((len(t), 2)) # v and omega\n",
    "    \n",
    "    ## u has two columns.\n",
    "    ## The first column corresponds to v.\n",
    "    ## The second column corresponds to omega.\n",
    "    \n",
    "    # YOUR CODE HERE\n",
    "    raise NotImplementedError()\n",
    "    return u   # do not change this line\n",
    "    "
   ]
  },
  {
   "cell_type": "code",
   "execution_count": null,
   "id": "e6e54b3d-365b-421f-9caa-88573ce5c370",
   "metadata": {
    "deletable": false,
    "editable": false,
    "nbgrader": {
     "cell_type": "code",
     "checksum": "8443a63e9545234c9667ff8e1f531846",
     "grade": true,
     "grade_id": "cell-e7fa5b66330b2013",
     "locked": true,
     "points": 1,
     "schema_version": 3,
     "solution": false,
     "task": false
    },
    "tags": []
   },
   "outputs": [],
   "source": []
  },
  {
   "cell_type": "code",
   "execution_count": null,
   "id": "6292d91e-adde-4c75-9940-22742b49c3b7",
   "metadata": {
    "deletable": false,
    "editable": false,
    "nbgrader": {
     "cell_type": "code",
     "checksum": "f91797ad78050e1292cf08a6b7787f47",
     "grade": true,
     "grade_id": "cell-0920cd88ee8ed98d",
     "locked": true,
     "points": 1,
     "schema_version": 3,
     "solution": false,
     "task": false
    },
    "tags": []
   },
   "outputs": [],
   "source": []
  },
  {
   "cell_type": "markdown",
   "id": "6abe39b3-39d7-465e-8288-d698b18f1ab0",
   "metadata": {},
   "source": [
    "#### To observe the behaviour of inputs, you could uncomment and run the given code below."
   ]
  },
  {
   "cell_type": "code",
   "execution_count": null,
   "id": "b1267a22-d9fb-4ffa-95af-b96c0de81ff6",
   "metadata": {
    "tags": []
   },
   "outputs": [],
   "source": [
    "# t_range = np.linspace(0, 20, 1001)\n",
    "# plt.plot(t_range, inputs_u(0, 20, 1001)[:, 0], label= 'speed')\n",
    "# plt.plot(t_range, inputs_u(0, 20, 1001)[:, 1] / np.pi, label = 'orientation')\n",
    "# plt.title('inputs')\n",
    "# plt.xlabel('time')\n",
    "# plt.legend()\n",
    "# plt.grid()"
   ]
  },
  {
   "cell_type": "markdown",
   "id": "5db580df-032e-4910-b739-cb9c4afe9474",
   "metadata": {},
   "source": [
    "### Part c: Numerically, using Euler method, solve the differential equations with the inputs that you constructed above. Visualize the solution and check that it is what you expected.\n",
    "\n",
    "### To use Euler method, you need to first construct the dynamic model which is given as follows."
   ]
  },
  {
   "cell_type": "code",
   "execution_count": null,
   "id": "6e3cdd7e-ca08-4801-93e6-de45c4da80bb",
   "metadata": {
    "tags": []
   },
   "outputs": [],
   "source": [
    "def dynamic_model(t, xt, ut):\n",
    "    \"\"\" \n",
    "    Dynamic model\n",
    "    -------\n",
    "    Input:\n",
    "        t: time\n",
    "        xt: position and orientation of the robot at time t: [px(t), py(t), phi(t)].\n",
    "        ut: inputs of the robot at time t: [v(t), omega(t)]\n",
    "    Output:\n",
    "           an array of three elements that corresponds to the dynamic model, its shape is (3,). \n",
    "        \n",
    "    \"\"\"\n",
    "    return np.array([\n",
    "        ut[0] * np.cos(xt[2]), # v(t) * cos(phi(t))\n",
    "        ut[0] * np.sin(xt[2]), # v(t) * sin(phi(t))\n",
    "        ut[1]                  # w_gyro(t)\n",
    "    ]) \n",
    "    \n",
    "    \n",
    "    "
   ]
  },
  {
   "cell_type": "markdown",
   "id": "cd5e7e5b-8f8b-46e9-9758-e0c6efb5da6d",
   "metadata": {},
   "source": [
    "#### (1 point): Complete the 'Euler_solution' function in the next cell:"
   ]
  },
  {
   "cell_type": "code",
   "execution_count": null,
   "id": "b7c02bb5-9056-468b-a0f6-bb9b7e79504b",
   "metadata": {
    "deletable": false,
    "nbgrader": {
     "cell_type": "code",
     "checksum": "0c0b6a92119ca2f69e6b71326cda27b5",
     "grade": false,
     "grade_id": "cell-82016691f7fcb75d",
     "locked": false,
     "schema_version": 3,
     "solution": true,
     "task": false
    },
    "tags": []
   },
   "outputs": [],
   "source": [
    "def Euler_solution(x0, t_0, t_end, N, inputs, func):\n",
    "   \n",
    "    T = np.linspace(t_0, t_end, N) \n",
    "    dt = (t_end - t_0) / (N - 1)\n",
    "    \n",
    "    x_euler = np.zeros((T.shape[0], 3))\n",
    "    x_euler[0, :] = x0\n",
    "    \n",
    "    u = inputs(t_0, t_end, N)\n",
    "    \n",
    "    for i in range(0, T.shape[0] - 1):\n",
    "        # implement euler method\n",
    "        # YOUR CODE HERE\n",
    "        raise NotImplementedError()\n",
    "    return x_euler"
   ]
  },
  {
   "cell_type": "code",
   "execution_count": null,
   "id": "ac15bef9-5fc1-41fb-8707-16b715369e3b",
   "metadata": {},
   "outputs": [],
   "source": [
    "x0 = initial_conditions()\n",
    "t_0 =0\n",
    "t_f = 10\n",
    "N = 1001\n",
    "xt = Euler_solution(x0, t_0, t_f, N, inputs_u, dynamic_model)"
   ]
  },
  {
   "cell_type": "markdown",
   "id": "88cec381-3ab6-41f5-b170-0528ffff4258",
   "metadata": {},
   "source": [
    "#### To observe the movement of the robot, you could uncomment and run the given code below."
   ]
  },
  {
   "cell_type": "code",
   "execution_count": null,
   "id": "04d72c26-e013-4930-8690-83d50374f257",
   "metadata": {
    "tags": []
   },
   "outputs": [],
   "source": [
    "# skip = 20\n",
    "# f, ax = plt.subplots(1, 1, figsize=(10,10))\n",
    "\n",
    "# ax.plot(xt[:,0], xt[:,1], label='Robot-position', linewidth=0.5)\n",
    "# ax.quiver(xt[::skip,0], xt[::skip,1],\n",
    "#                np.cos(xt[::skip,2]), np.sin(xt[::skip,2]),\n",
    "#                label='Direction', linewidth=0.5, alpha=0.5)\n",
    "# ax.set_xlabel('$x_1$')\n",
    "# ax.set_ylabel('$x_2$')\n",
    "\n",
    "# ax.legend();"
   ]
  },
  {
   "cell_type": "markdown",
   "id": "7d0a6885-9c65-4585-b9d3-7bca99ab6490",
   "metadata": {},
   "source": [
    "#### Expected movement of the robot which you should also see in the previous figure is as follows:\n",
    "\n",
    "#### The initial location of the robot is at the origin (0,0), with its orientation facing upwards. It proceeds to move in this direction for a duration of 3 seconds, followed by a 360-degree turn completed over a span of 4 seconds. Finally, it continues going upward until it stops.\n",
    "\n",
    "#### If you coded correctly, the following code should run without error."
   ]
  },
  {
   "cell_type": "code",
   "execution_count": null,
   "id": "7904f89e-013c-45f8-b1ae-f1534380a7eb",
   "metadata": {
    "deletable": false,
    "editable": false,
    "nbgrader": {
     "cell_type": "code",
     "checksum": "97354175abe70f7126f8ac14817d2f0b",
     "grade": true,
     "grade_id": "cell-2d0e3e72565d065a",
     "locked": true,
     "points": 1,
     "schema_version": 3,
     "solution": false,
     "task": false
    },
    "tags": []
   },
   "outputs": [],
   "source": [
    "assert np.allclose(xt[-1,0], 0.0)\n",
    "assert np.allclose(xt[-1,2] / np.pi, -1.5, rtol=1e-03, atol=1e-04)\n",
    "\n"
   ]
  },
  {
   "cell_type": "code",
   "execution_count": null,
   "id": "a0db3099-5888-48c8-8647-281eef1551b8",
   "metadata": {},
   "outputs": [],
   "source": []
  }
 ],
 "metadata": {
  "kernelspec": {
   "display_name": "Python 3",
   "language": "python",
   "name": "python3"
  },
  "language_info": {
   "codemirror_mode": {
    "name": "ipython",
    "version": 3
   },
   "file_extension": ".py",
   "mimetype": "text/x-python",
   "name": "python",
   "nbconvert_exporter": "python",
   "pygments_lexer": "ipython3",
   "version": "3.10.8"
  }
 },
 "nbformat": 4,
 "nbformat_minor": 5
}
