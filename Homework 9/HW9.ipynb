{
 "cells": [
  {
   "cell_type": "markdown",
   "id": "b25599dd-f36a-43f3-99e0-69ec13ef0025",
   "metadata": {
    "tags": []
   },
   "source": [
    "# Homework 9 (DL Monday, November 27 at 12:00 PM)\n",
    "#### ELEC-E8740 - Basics of sensor fusion - Autumn 2023"
   ]
  },
  {
   "cell_type": "code",
   "execution_count": null,
   "id": "c02029b5-326e-4b46-9dba-0dafa833b812",
   "metadata": {
    "tags": []
   },
   "outputs": [],
   "source": [
    "import numpy as np\n",
    "import scipy.linalg as linalg\n",
    "import matplotlib.pyplot as plt\n"
   ]
  },
  {
   "cell_type": "markdown",
   "id": "21875ec8-8ccb-49da-aa5a-b545f2003ec2",
   "metadata": {},
   "source": [
    "#### Consider a 1D Gaussian random walk model\n",
    "$$\n",
    "x_k = x_{k−1} + q_{k−1}, \\\\\n",
    "y_k = x_k + r_k,\n",
    "$$\n",
    "\n",
    "where $x_0 ∼ \\mathcal{N} (0, 1), q_{k−1} ∼ \\mathcal{N} (0, 1)$, and $r_k ∼ \\mathcal{N} (0, 1)$."
   ]
  },
  {
   "cell_type": "markdown",
   "id": "d6e76043-7d32-477a-8307-aa2edecf00df",
   "metadata": {},
   "source": [
    "### Part a (1 point): Simulate state and measurements from the model for 100 time steps. Plot the data."
   ]
  },
  {
   "cell_type": "code",
   "execution_count": null,
   "id": "8fde83d8-21c1-49ae-9215-86be1fd76d90",
   "metadata": {
    "deletable": false,
    "nbgrader": {
     "cell_type": "code",
     "checksum": "348a788eab6f6c76c19bc4ec12f3f5f1",
     "grade": false,
     "grade_id": "cell-6f1536b5d4b4817e",
     "locked": false,
     "schema_version": 3,
     "solution": true,
     "task": false
    },
    "tags": []
   },
   "outputs": [],
   "source": [
    "def model_simulation(seed_number, steps):\n",
    "    \"\"\" \n",
    "    model simulation for 1D Gaussian random walk model\n",
    "    -------\n",
    "    Input:\n",
    "        seed_number: it is used to generate the same sequence of random numbers\n",
    "        steps: number of steps\n",
    "    Output:\n",
    "        xs: state trajectory\n",
    "        ys: measurement tajectory\n",
    "        \n",
    "    \"\"\"\n",
    "    np.random.seed(seed_number)      # do not change this line\n",
    "    xs = np.zeros((steps, 1))        # do not change this line\n",
    "    ys = np.zeros((steps, 1))        # do not change this line\n",
    "    # To draw random samples from a normal (Gaussian) distribution, you could use np.random.normal function\n",
    "    # YOUR CODE HERE\n",
    "    for i in range(steps):\n",
    "        xs[i] = xs[i-1] + np.random.normal(0,1)\n",
    "        ys[i] = xs[i] + np.random.normal(0,1)\n",
    "    # raise NotImplementedError()\n",
    "    return xs, ys # do not change this line\n",
    "    "
   ]
  },
  {
   "cell_type": "markdown",
   "id": "cc5bbcee-b5e4-43b1-b79d-7c4e246baf0c",
   "metadata": {},
   "source": [
    "Feel free to uncomment and run the given code below."
   ]
  },
  {
   "cell_type": "code",
   "execution_count": null,
   "id": "6fc0ac43-1005-4cb5-856f-a557837d21e8",
   "metadata": {
    "tags": []
   },
   "outputs": [],
   "source": [
    "# plt.plot(model_simulation(1, 100)[0], label='state')\n",
    "# plt.plot(model_simulation(1, 100)[1], '*', label='measurement')\n",
    "# plt.title('1D Gaussian random walk model')\n",
    "# plt.xlabel('steps')\n",
    "# plt.legend()\n",
    "# plt.grid();"
   ]
  },
  {
   "cell_type": "code",
   "execution_count": null,
   "id": "ff65b2bb-06ef-4b79-bf7a-833545389d53",
   "metadata": {
    "deletable": false,
    "editable": false,
    "nbgrader": {
     "cell_type": "code",
     "checksum": "eb0348d60775dcc6c6e1a9446a783e04",
     "grade": true,
     "grade_id": "cell-b9eeef65581a799d",
     "locked": true,
     "points": 1,
     "schema_version": 3,
     "solution": false,
     "task": false
    },
    "tags": []
   },
   "outputs": [],
   "source": []
  },
  {
   "cell_type": "markdown",
   "id": "164e540c-4ee1-47d6-bca6-30b47f9e0402",
   "metadata": {},
   "source": [
    "### part b (2 points) Implement a Kalman filter for the model and plot the results.\n",
    "\n",
    "#### Note: the input of the following \"Kalman_Filter\" function is only the measurements. Please do not change that and define any nesessary parameters inside the function.\n",
    "\n",
    "#### The output should be Kalman filter means and covariances of the whole trajectory."
   ]
  },
  {
   "cell_type": "code",
   "execution_count": null,
   "id": "1fd27055-ff0d-49a9-9af2-c48cd678a5ea",
   "metadata": {
    "deletable": false,
    "nbgrader": {
     "cell_type": "code",
     "checksum": "1c549c2106a415110f20cb3826a890de",
     "grade": false,
     "grade_id": "cell-d4bd434b49e3570c",
     "locked": false,
     "schema_version": 3,
     "solution": true,
     "task": false
    },
    "tags": []
   },
   "outputs": [],
   "source": [
    "def Kalman_Filter(Y):\n",
    "    \"\"\" \n",
    "    Kalman filter state estimation for 1D Gaussian random walk model\n",
    "    \n",
    "    -------\n",
    "    Input:\n",
    "        Y: measurements\n",
    "    Output:\n",
    "        mean_kf: Kalman filter mean estimation\n",
    "        cov_kf: Kalman filter covariance estimation\n",
    "        \n",
    "    \"\"\"\n",
    "    steps = Y.shape[0]\n",
    "    mean_kf = np.zeros((steps, 1))      # do not change this line\n",
    "    cov_kf = np.zeros((steps, 1, 1))    # do not change this line\n",
    "    # YOUR CODE HERE\n",
    "    raise NotImplementedError()\n",
    "    return mean_kf, cov_kf  # do not change this line"
   ]
  },
  {
   "cell_type": "code",
   "execution_count": null,
   "id": "ca798550-ea1c-40c0-9fde-bbd08d7bca19",
   "metadata": {
    "deletable": false,
    "editable": false,
    "nbgrader": {
     "cell_type": "code",
     "checksum": "bc43e428c94d3a8fdc4082ed5a0a8e9a",
     "grade": true,
     "grade_id": "cell-71c49afb74be8c68",
     "locked": true,
     "points": 2,
     "schema_version": 3,
     "solution": false,
     "task": false
    },
    "tags": []
   },
   "outputs": [],
   "source": []
  },
  {
   "cell_type": "markdown",
   "id": "33e61d05-08b2-4639-9fe6-cd43d11ba7d6",
   "metadata": {},
   "source": [
    "Feel free to uncomment and run the given code below."
   ]
  },
  {
   "cell_type": "code",
   "execution_count": null,
   "id": "19729aab-84ce-46c7-bae4-a07396349032",
   "metadata": {
    "tags": []
   },
   "outputs": [],
   "source": [
    "# observations =  model_simulation(1, 100)[1]\n",
    "# x_kalman, cov_kalman = Kalman_Filter(observations)\n",
    "# plt.figure(figsize=(15,6))\n",
    "# plt.plot(model_simulation(1, 100)[0], label='true state')\n",
    "# plt.plot(x_kalman[:,0], 'r--', label='KF estimation')\n",
    "# plt.legend()\n",
    "# plt.grid();"
   ]
  },
  {
   "cell_type": "markdown",
   "id": "4c9ad84e-7ffe-406a-abda-675ceac85dd9",
   "metadata": {},
   "source": [
    "### Part b (1 point): Compare its state estimates (= mean) in RMSE sense to using pure measurements as estimates ($x_k ≈ y_k$) for the state."
   ]
  },
  {
   "cell_type": "code",
   "execution_count": null,
   "id": "d68b2ea6-2061-4ed3-b613-d38a016f454b",
   "metadata": {
    "deletable": false,
    "nbgrader": {
     "cell_type": "code",
     "checksum": "1699b9ebb0ed0005ec085d0b859c2c4f",
     "grade": false,
     "grade_id": "cell-354670c82f0bacbe",
     "locked": false,
     "schema_version": 3,
     "solution": true,
     "task": false
    },
    "tags": []
   },
   "outputs": [],
   "source": [
    "def rmse_comparison(true_state, kf_mean_estimation, pure_measurements):\n",
    "    \"\"\" \n",
    "    RMSE comparison for 1D Gaussian random walk model using kalman filter estimates and raw measurements estimates\n",
    "    \n",
    "    -------\n",
    "    Input:\n",
    "        true_state: true states come from the model\n",
    "        kf_mean: kalman filter mean estimation\n",
    "        pure_measurements: measurements\n",
    "    Output:\n",
    "        rmse_kf: rmse of Kalman filter estimates and true states\n",
    "        rmse_raw: rmse of raw measurements estimates and true states\n",
    "        \n",
    "    \"\"\"\n",
    "    # rmse_kf = ?\n",
    "    # rmse_raw = ?\n",
    "    # YOUR CODE HERE\n",
    "    raise NotImplementedError()\n",
    "    return rmse_kf, rmse_raw\n",
    "    "
   ]
  },
  {
   "cell_type": "code",
   "execution_count": null,
   "id": "8b1a1dd6-55e5-4d6f-90cf-d10a55ee426d",
   "metadata": {
    "deletable": false,
    "editable": false,
    "nbgrader": {
     "cell_type": "code",
     "checksum": "d68313cc89e5f262b8639cea566376d3",
     "grade": true,
     "grade_id": "cell-dcf5395f5f16c21f",
     "locked": true,
     "points": 1,
     "schema_version": 3,
     "solution": false,
     "task": false
    },
    "tags": []
   },
   "outputs": [],
   "source": []
  }
 ],
 "metadata": {
  "kernelspec": {
   "display_name": "Python 3",
   "language": "python",
   "name": "python3"
  },
  "language_info": {
   "codemirror_mode": {
    "name": "ipython",
    "version": 3
   },
   "file_extension": ".py",
   "mimetype": "text/x-python",
   "name": "python",
   "nbconvert_exporter": "python",
   "pygments_lexer": "ipython3",
   "version": "3.10.8"
  }
 },
 "nbformat": 4,
 "nbformat_minor": 5
}
