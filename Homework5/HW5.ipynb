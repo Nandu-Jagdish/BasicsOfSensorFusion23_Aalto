{
 "cells": [
  {
   "cell_type": "markdown",
   "id": "d6509f5f-7080-4fa3-9e04-9706c76dfc13",
   "metadata": {
    "deletable": false,
    "editable": false,
    "nbgrader": {
     "cell_type": "markdown",
     "checksum": "1751f24dfda5374f0d40e4535ac1e95a",
     "grade": false,
     "grade_id": "cell-8200224e0fcbf6a1",
     "locked": true,
     "schema_version": 3,
     "solution": false,
     "task": false
    },
    "tags": []
   },
   "source": [
    "# Homework 5 (DL Friday, October 27 at 12:00 PM)\n",
    "#### ELEC-E8740 - Basics of sensor fusion - Autumn 2023\n"
   ]
  },
  {
   "cell_type": "code",
   "execution_count": null,
   "id": "cd9c40d3-67ee-4f62-b072-52038ca3fe86",
   "metadata": {
    "deletable": false,
    "editable": false,
    "nbgrader": {
     "cell_type": "code",
     "checksum": "adef811cc07253b20fc407f06a562592",
     "grade": false,
     "grade_id": "cell-24e74ad5333392af",
     "locked": true,
     "schema_version": 3,
     "solution": false,
     "task": false
    },
    "tags": []
   },
   "outputs": [],
   "source": [
    "import numpy as np\n",
    "import matplotlib.pyplot as plt"
   ]
  },
  {
   "cell_type": "markdown",
   "id": "5b3447e7-ad81-4dd7-b0a2-f5ff7e3769e5",
   "metadata": {
    "deletable": false,
    "editable": false,
    "nbgrader": {
     "cell_type": "markdown",
     "checksum": "32a52f985181076a8460a6e97b41f299",
     "grade": false,
     "grade_id": "cell-45fbc5154f591405",
     "locked": true,
     "schema_version": 3,
     "solution": false,
     "task": false
    },
    "tags": []
   },
   "source": [
    "## Question:\n",
    "\n",
    "## Implement Gauss–Newton with line search for minimizing the cost function $J(x) = (1.1 − \\sin(x))^2$. Use grid search with grid $\\gamma \\in [0,\\frac{1}{10}, \\frac{2}{10}, \\ldots , 1]$. Hint: Beware of the singularity of the derivative at the minimum."
   ]
  },
  {
   "cell_type": "markdown",
   "id": "f1fe82c5-ca34-4a6e-9e77-28c54aef6eb1",
   "metadata": {
    "deletable": false,
    "editable": false,
    "nbgrader": {
     "cell_type": "markdown",
     "checksum": "f293f607de8549d3788c87e56d2e781c",
     "grade": false,
     "grade_id": "cell-4c2c4e99d4a44166",
     "locked": true,
     "schema_version": 3,
     "solution": false,
     "task": false
    },
    "tags": []
   },
   "source": [
    "## Recall:\n",
    "#### Check \"Gauss–Newton Algorithm with Line Search\" in page $15$ of houndout $5$. Here, we want to use the \"Exact Line Search on Grid\" method as in page $11$ of houndout $5$.\n",
    "## Procedure:\n",
    "####  First, you need to define measurement function $g(x)$, its Jacobian $G(x)$, and the cost function $J(x)$.\n",
    "#### Consider the function $g(x)$ in this example as $g(x) = \\sin(x)$ and the measurement as $y = 1.1$."
   ]
  },
  {
   "cell_type": "code",
   "execution_count": null,
   "id": "4f145a5b-c529-48b7-a453-30447e404cc5",
   "metadata": {
    "deletable": false,
    "editable": false,
    "nbgrader": {
     "cell_type": "code",
     "checksum": "39478e0c52e073e3f199cad0f33d557f",
     "grade": false,
     "grade_id": "cell-cc3720ea5824892b",
     "locked": true,
     "schema_version": 3,
     "solution": false,
     "task": false
    },
    "tags": []
   },
   "outputs": [],
   "source": [
    "def g(x):\n",
    "    return np.sin(x)\n",
    "\n",
    "y = 1.1"
   ]
  },
  {
   "cell_type": "markdown",
   "id": "13c1994f-2faf-469b-9bc3-b097aeb991df",
   "metadata": {
    "deletable": false,
    "editable": false,
    "nbgrader": {
     "cell_type": "markdown",
     "checksum": "e1aebd862e0de88d315287458c7884a4",
     "grade": false,
     "grade_id": "cell-1499306e944ee403",
     "locked": true,
     "schema_version": 3,
     "solution": false,
     "task": false
    },
    "tags": []
   },
   "source": [
    "### Part a (1 point): In the section below, implement the code for the Jacobian, $G(x)$, and the cost function, $J(x)$. "
   ]
  },
  {
   "cell_type": "code",
   "execution_count": null,
   "id": "7a99558b-d5bf-4442-afe5-04c9f5e9dd2c",
   "metadata": {
    "deletable": false,
    "nbgrader": {
     "cell_type": "code",
     "checksum": "aab57e0595540bad65598749e630bf3b",
     "grade": false,
     "grade_id": "cell-bddb9819c9ddc784",
     "locked": false,
     "schema_version": 3,
     "solution": true,
     "task": false
    },
    "tags": []
   },
   "outputs": [],
   "source": [
    "def G(x):\n",
    "    \"\"\" \n",
    "    Implement the Jacobian of g(x).\n",
    "    \"\"\"\n",
    "    # g'(x) = cos(x)\n",
    "    return np.cos(x)\n",
    "    # YOUR CODE HERE\n",
    "    # raise NotImplementedError()\n",
    "    \n",
    "def J(x):\n",
    "    \"\"\"\n",
    "    Implement the cost function.\n",
    "\n",
    "    \"\"\"\n",
    "    return (1.1 - g(x))**2\n",
    "    # YOUR CODE HERE\n",
    "    # raise NotImplementedError()"
   ]
  },
  {
   "cell_type": "code",
   "execution_count": null,
   "id": "412af6a2-7723-49f8-94e5-02b3814690c2",
   "metadata": {
    "deletable": false,
    "editable": false,
    "nbgrader": {
     "cell_type": "code",
     "checksum": "9faf46f608e1f2fe5453d676f67974d7",
     "grade": true,
     "grade_id": "cell-feff75040d2db5e2",
     "locked": true,
     "points": 1,
     "schema_version": 3,
     "solution": false,
     "task": false
    },
    "tags": []
   },
   "outputs": [],
   "source": [
    "\"\"\"Check the result for several inputs\"\"\"\n",
    "assert np.allclose(G(0.0), 1.0)\n",
    "assert np.allclose(J(0.0), 1.21)"
   ]
  },
  {
   "cell_type": "markdown",
   "id": "26ef5159-921d-475b-8e3d-082538f5d8d6",
   "metadata": {
    "deletable": false,
    "editable": false,
    "nbgrader": {
     "cell_type": "markdown",
     "checksum": "c2bd978a4913a61e786f9222f0d58d1e",
     "grade": false,
     "grade_id": "cell-08f13e14c9c50606",
     "locked": true,
     "schema_version": 3,
     "solution": false,
     "task": false
    },
    "tags": []
   },
   "source": [
    "#### Before implementing Gauss-Newton with line search method, let's visually observe the minimums of the cost function $J(x)$, and the cost of an initial guess e.g. $x_0 = 3.3$. \n"
   ]
  },
  {
   "cell_type": "code",
   "execution_count": null,
   "id": "7910c272-3c9f-422f-8e6b-d9146d6c371f",
   "metadata": {
    "deletable": false,
    "editable": false,
    "nbgrader": {
     "cell_type": "code",
     "checksum": "6f03692753e6fe7b9b5777e281df69c2",
     "grade": false,
     "grade_id": "cell-a6eafc86fd1618c4",
     "locked": true,
     "schema_version": 3,
     "solution": false,
     "task": false
    },
    "tags": []
   },
   "outputs": [],
   "source": [
    "x0 = 3.3 # initial guess\n",
    "xs = np.linspace(-10, 10, 1000)\n",
    "cost_results = [J(x) for x in xs]\n",
    "\n",
    "plt.figure(figsize=(10,6))\n",
    "plt.plot(xs, cost_results, linestyle='--', label='cost function')\n",
    "plt.plot(x0, J(x0), 'r*', label='cost of initial x')\n",
    "plt.legend()\n",
    "plt.grid()\n",
    "plt.xlabel('x')\n",
    "plt.ylabel('cost')\n",
    "plt.title('Cost function')\n",
    "plt.show()"
   ]
  },
  {
   "cell_type": "markdown",
   "id": "3474c7cd-f488-44a0-a917-187c1f7ec562",
   "metadata": {
    "deletable": false,
    "editable": false,
    "nbgrader": {
     "cell_type": "markdown",
     "checksum": "44e6c98f3e21e77766fb934daed48116",
     "grade": false,
     "grade_id": "cell-aebd5b2c7256f3a2",
     "locked": true,
     "schema_version": 3,
     "solution": false,
     "task": false
    },
    "tags": []
   },
   "source": [
    "### Part b (1 point): Here we aim to implemet the \"Exact Line Search on Grid\" algorithm according to the Page $11$ of houndout $5$ (Alg.3).\n"
   ]
  },
  {
   "cell_type": "code",
   "execution_count": null,
   "id": "94695e6f-7375-40b8-9e3e-bd7a23939445",
   "metadata": {
    "deletable": false,
    "nbgrader": {
     "cell_type": "code",
     "checksum": "a17a9065132637d3038622b19e44ea88",
     "grade": false,
     "grade_id": "cell-1e5f436acb64286e",
     "locked": false,
     "schema_version": 3,
     "solution": true,
     "task": false
    },
    "tags": []
   },
   "outputs": [],
   "source": [
    "def Exact_LS_on_Grid(xi, del_x, Ng):\n",
    "    '''\n",
    "    Input:\n",
    "        xi: result of the previous iteration\n",
    "        del_x: the update direction\n",
    "        Ng: the grid size\n",
    "    Output:\n",
    "        opt_gamma: optimal step size\n",
    "    '''\n",
    "    opt_gamma = 0 # Line 1 of Alg.3 (opt_gamma is gamma* in Alg.3)\n",
    "    opt_cost = J(xi) # Line 1 of Alg.3 (opt_cost is J* in Alg.3)\n",
    "    for j in range(0, Ng + 1): # Line 2 of Alg.3 (note that in the question gamma is starting from zero)\n",
    "        # Implement exact line search method (line 3 to 8 of Alg.3).\n",
    "        # You should call the cost function J(x) that you previously coded.\n",
    "        # YOUR CODE HERE\n",
    "        raise NotImplementedError()\n",
    "    return opt_gamma"
   ]
  },
  {
   "cell_type": "code",
   "execution_count": null,
   "id": "54ec941d-9447-42d4-b410-2433eb687d67",
   "metadata": {
    "deletable": false,
    "editable": false,
    "nbgrader": {
     "cell_type": "code",
     "checksum": "6aa40380d60a6d7f2a440426e00e4f80",
     "grade": true,
     "grade_id": "cell-5823cd69763d6d76",
     "locked": true,
     "points": 1,
     "schema_version": 3,
     "solution": false,
     "task": false
    },
    "tags": []
   },
   "outputs": [],
   "source": [
    "\"\"\"Check the result for several inputs\"\"\"\n",
    "assert np.allclose(Exact_LS_on_Grid(3.3 , -2, 10), 0.9)\n",
    "assert np.allclose(Exact_LS_on_Grid(0.0 , 2, 10), 0.8)\n"
   ]
  },
  {
   "cell_type": "markdown",
   "id": "0700fb2b-f662-4124-9e24-22cb65262ff5",
   "metadata": {},
   "source": [
    "### Part c (2 points): In the section below, implement Gauss Newton with Line Search method (page 15).\n"
   ]
  },
  {
   "cell_type": "code",
   "execution_count": null,
   "id": "e1808f1e-98f2-4b77-a3b5-89e337a98681",
   "metadata": {
    "deletable": false,
    "nbgrader": {
     "cell_type": "code",
     "checksum": "b23343409202c9b7ee1cbf672bc0a9b3",
     "grade": false,
     "grade_id": "cell-35f4613c4859ca67",
     "locked": false,
     "schema_version": 3,
     "solution": true,
     "task": false
    },
    "tags": []
   },
   "outputs": [],
   "source": [
    "def Gauss_Newton_LS(x_0, y, Ng, number_of_iterations):\n",
    "    x = np.zeros((number_of_iterations + 1,)) # do not change this line.\n",
    "    x[0] = x_0\n",
    "    for i in range(number_of_iterations):\n",
    "        \n",
    "        # Find the update direction (Line 3 Alg.5).\n",
    "        # for that you need to call functions g and G\n",
    "        \n",
    "        # YOUR CODE HERE\n",
    "        raise NotImplementedError()\n",
    "        \n",
    "        # Find the optimal gamma by calling  Exact_LS_on_Grid function.\n",
    "        # YOUR CODE HERE\n",
    "        raise NotImplementedError()\n",
    "        \n",
    "        # Update x (Line 5 Alg.5). you should calculate x[i+1] from x[i]\n",
    "        # YOUR CODE HERE\n",
    "        raise NotImplementedError()\n",
    "    return x\n",
    "        "
   ]
  },
  {
   "cell_type": "code",
   "execution_count": null,
   "id": "5c2e00d3-3450-44d7-b0b5-ab57328d0dd9",
   "metadata": {
    "deletable": false,
    "editable": false,
    "nbgrader": {
     "cell_type": "code",
     "checksum": "997921810a53b01b089d2a871c9fe756",
     "grade": true,
     "grade_id": "cell-72db145139b0c1af",
     "locked": true,
     "points": 1,
     "schema_version": 3,
     "solution": false,
     "task": false
    },
    "tags": []
   },
   "outputs": [],
   "source": []
  },
  {
   "cell_type": "markdown",
   "id": "318699c7-0e24-4503-9ff5-409cbd931c6d",
   "metadata": {
    "deletable": false,
    "editable": false,
    "nbgrader": {
     "cell_type": "markdown",
     "checksum": "3a4235130367b1dad5bdf51e600d0cba",
     "grade": false,
     "grade_id": "cell-e78cbb3a7e285e52",
     "locked": true,
     "schema_version": 3,
     "solution": false,
     "task": false
    },
    "tags": []
   },
   "source": [
    "#### In the section below, we check the final result of the \"Gauss_Newton_LS\" function by considering several initial points, specifically $[-7.0, 0.0, 3.3]$, running for $5$ iterations, and employing a grid of size $10$.\n",
    "\n"
   ]
  },
  {
   "cell_type": "code",
   "execution_count": null,
   "id": "ae8f8a0a-8458-49f1-bf5b-e329f791e40e",
   "metadata": {
    "deletable": false,
    "editable": false,
    "nbgrader": {
     "cell_type": "code",
     "checksum": "2ee3d809091732cc8316ccc765b73c32",
     "grade": true,
     "grade_id": "cell-3c9e66635b237f70",
     "locked": true,
     "points": 1,
     "schema_version": 3,
     "solution": false,
     "task": false
    },
    "tags": []
   },
   "outputs": [],
   "source": [
    "\"\"\"Check the result for several inputs\"\"\"\n",
    "assert np.allclose(Gauss_Newton_LS(-7.0, 1.1, 10, 5)[-1], -4.6695, rtol=1e-03, atol=1e-04)\n",
    "assert np.allclose(Gauss_Newton_LS(0.0, 1.1, 10, 5)[-1], 1.5603, rtol=1e-03, atol=1e-04)\n",
    "assert np.allclose(Gauss_Newton_LS(3.3, 1.1, 10, 5)[-1], 1.5672, rtol=1e-03, atol=1e-04)\n"
   ]
  },
  {
   "cell_type": "markdown",
   "id": "39c77243-146a-4eec-9883-3360d3fd13a6",
   "metadata": {},
   "source": [
    "Feel free to change the initial point in the next section and observe the results through the values of cost function."
   ]
  },
  {
   "cell_type": "code",
   "execution_count": null,
   "id": "9494eff0-ef20-4951-950d-a4031fae9d6f",
   "metadata": {
    "tags": []
   },
   "outputs": [],
   "source": [
    "initial_point = -3.3\n",
    "xx = Gauss_Newton_LS(initial_point, 1.1, 10, 5)\n",
    "\n",
    "plt.figure(figsize=(10,6))\n",
    "plt.plot(xs, cost_results, linestyle='--', label='cost function')\n",
    "plt.plot(initial_point, J(initial_point), 'g*', label='cost of initial x')\n",
    "plt.plot(xx, J(xx), 'r--', label='LS method')\n",
    "plt.legend()\n",
    "plt.grid()\n",
    "plt.xlabel('x')\n",
    "plt.ylabel('cost')\n",
    "plt.title('Cost function')\n",
    "plt.show()"
   ]
  }
 ],
 "metadata": {
  "kernelspec": {
   "display_name": "Python 3",
   "language": "python",
   "name": "python3"
  },
  "language_info": {
   "codemirror_mode": {
    "name": "ipython",
    "version": 3
   },
   "file_extension": ".py",
   "mimetype": "text/x-python",
   "name": "python",
   "nbconvert_exporter": "python",
   "pygments_lexer": "ipython3",
   "version": "3.10.8"
  }
 },
 "nbformat": 4,
 "nbformat_minor": 5
}
