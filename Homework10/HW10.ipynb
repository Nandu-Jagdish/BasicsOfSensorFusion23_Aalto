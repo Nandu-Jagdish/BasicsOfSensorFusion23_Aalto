{
 "cells": [
  {
   "cell_type": "markdown",
   "id": "96e95eac-0d7b-44e3-9531-82e798cd93b0",
   "metadata": {},
   "source": [
    "# Homework 9 (DL Monday, December 4 at 12:00 PM)\n",
    "#### ELEC-E8740 - Basics of sensor fusion - Autumn 2023"
   ]
  },
  {
   "cell_type": "code",
   "execution_count": null,
   "id": "a30da0c6-524d-43e6-8b24-014f38004f0e",
   "metadata": {
    "tags": []
   },
   "outputs": [],
   "source": [
    "import numpy as np\n",
    "import scipy.linalg as linalg\n",
    "import matplotlib.pyplot as plt"
   ]
  },
  {
   "cell_type": "markdown",
   "id": "5b4a4d5d-f489-413c-a5ec-2655c24d938c",
   "metadata": {},
   "source": [
    "#### Consider the following 1D non-linear model\n",
    "$$\n",
    "x_k = tanh(x_{k−1}) + q_{k−1}, \\\\\n",
    "y_k = sin(x_k) + r_k,\n",
    "$$\n",
    "where $x_0 \\sim \\mathcal{N} (0, 1)$, $q_{k−1} \\sim \\mathcal{N} (0, 0.1^2)$, and $r_k \\sim \\mathcal{N} (0, 0.1^2)$."
   ]
  },
  {
   "cell_type": "markdown",
   "id": "84bda768-9700-464d-942d-203e05ada4b4",
   "metadata": {},
   "source": [
    "### Part a (1 point): Simulate 100 steps of states and measurements from the model. Plot the data."
   ]
  },
  {
   "cell_type": "code",
   "execution_count": null,
   "id": "157522a5-b84e-4b86-af83-3b918b31cd55",
   "metadata": {
    "deletable": false,
    "nbgrader": {
     "cell_type": "code",
     "checksum": "d526e9ccf883590c61f0956685cc2685",
     "grade": false,
     "grade_id": "cell-88228320ca49d37b",
     "locked": false,
     "schema_version": 3,
     "solution": true,
     "task": false
    },
    "tags": []
   },
   "outputs": [],
   "source": [
    "def model_simulation(seed_number, steps):\n",
    "    \"\"\" \n",
    "    1D non-linear model simulation\n",
    "    -------\n",
    "    Input:\n",
    "        seed_number: it is used to generate the same sequence of random numbers\n",
    "        steps: number of steps\n",
    "    Output:\n",
    "        xs: state trajectory\n",
    "        ys: measurement tajectory\n",
    "        \n",
    "    \"\"\"\n",
    "    np.random.seed(seed_number)      # do not change this line\n",
    "    xs = np.zeros((steps, 1))        # do not change this line\n",
    "    ys = np.zeros((steps, 1))        # do not change this line\n",
    "    # To draw random samples from a normal (Gaussian) distribution, you could use np.random.normal function\n",
    "    # Attention: the arguments of np.random.normal are mean and \"Standard deviation\"\n",
    "    # YOUR CODE HERE\n",
    "    raise NotImplementedError()\n",
    "    return xs, ys # do not change this line"
   ]
  },
  {
   "cell_type": "markdown",
   "id": "9d67720d-cd89-440d-aa00-dcd357e0e2cc",
   "metadata": {},
   "source": [
    "Feel free to uncomment and run the given code below."
   ]
  },
  {
   "cell_type": "code",
   "execution_count": null,
   "id": "7d72668d-cb9d-4460-a640-b396cbadbedc",
   "metadata": {
    "tags": []
   },
   "outputs": [],
   "source": [
    "# xs, ys = model_simulation(5, 100)\n",
    "# plt.plot(xs, label='state')\n",
    "# plt.plot(ys, '*', label='measurement')\n",
    "# plt.title('1D non-linear model')\n",
    "# plt.xlabel('steps')\n",
    "# plt.legend()\n",
    "# plt.grid();"
   ]
  },
  {
   "cell_type": "code",
   "execution_count": null,
   "id": "e81bf6c6-a2e0-4511-855d-d834ac9b800a",
   "metadata": {
    "deletable": false,
    "editable": false,
    "nbgrader": {
     "cell_type": "code",
     "checksum": "f8af7846af450ea1718bc76d45ff0fba",
     "grade": true,
     "grade_id": "cell-4281fb2e569eecdd",
     "locked": true,
     "points": 1,
     "schema_version": 3,
     "solution": false,
     "task": false
    },
    "tags": []
   },
   "outputs": [],
   "source": []
  },
  {
   "cell_type": "markdown",
   "id": "fe1a4582-bacd-49ab-949d-3c7589bcac9e",
   "metadata": {},
   "source": [
    "### Part b (1 point): Derive the necessary derivatives."
   ]
  },
  {
   "cell_type": "code",
   "execution_count": null,
   "id": "abcd9cdf-adc2-4fd1-9a8f-cdc7fdaa4bae",
   "metadata": {
    "deletable": false,
    "nbgrader": {
     "cell_type": "code",
     "checksum": "4ed8dabb1324d720f224cf2e70247733",
     "grade": false,
     "grade_id": "cell-49350942f00ff58d",
     "locked": false,
     "schema_version": 3,
     "solution": true,
     "task": false
    },
    "tags": []
   },
   "outputs": [],
   "source": [
    "def derivatives_ssm(x):\n",
    "    \"\"\" \n",
    "    Derivatives of dynamic functin and measurement function\n",
    "    -------\n",
    "    Input:\n",
    "        x: state\n",
    "    Output:\n",
    "        Fx: value of derivative of the dynamic function tanh(.) at state x\n",
    "        Gx: value of derivative of the measurement function sin(.) at state x\n",
    "        \n",
    "    \"\"\"    \n",
    "    # Fx = ?\n",
    "    # Gx = ?\n",
    "    # YOUR CODE HERE\n",
    "    raise NotImplementedError()\n",
    "    return Fx, Gx # do not change this line\n",
    "    "
   ]
  },
  {
   "cell_type": "code",
   "execution_count": null,
   "id": "ffefee68-5257-4961-91d6-b014b1a99e1c",
   "metadata": {
    "deletable": false,
    "editable": false,
    "nbgrader": {
     "cell_type": "code",
     "checksum": "e9fee6818e89d8114dbf5ad9171d9d9e",
     "grade": true,
     "grade_id": "cell-6adbaa2abe24b754",
     "locked": true,
     "points": 1,
     "schema_version": 3,
     "solution": false,
     "task": false
    },
    "tags": []
   },
   "outputs": [],
   "source": [
    "assert np.allclose(derivatives_ssm(0), (1.0, 1.0), rtol=1e-03, atol=1e-04)\n",
    "assert np.allclose(derivatives_ssm(-np.pi/2), (0.159, 0.0), rtol=1e-03, atol=1e-04)\n"
   ]
  },
  {
   "cell_type": "markdown",
   "id": "f5397494-66a3-41e2-be35-9b5554829ce0",
   "metadata": {},
   "source": [
    "### Part b (1 point): and check that they are correct by using numerical finite differences.\n",
    "To approximately find the derivative a function $f(.)$ using finite difference method, you could select a small step size $h$ and compute $\\frac{f(x + h) - f(x)}{h}$. In this part, use this method to find the derivatives of the dynamic function $tanh(.)$ and measurement function $sin()$."
   ]
  },
  {
   "cell_type": "code",
   "execution_count": null,
   "id": "fb8b722f-62e2-4370-abc3-09e49bef4150",
   "metadata": {
    "deletable": false,
    "nbgrader": {
     "cell_type": "code",
     "checksum": "107c74cabcc3d336b516d0b811fa8d28",
     "grade": false,
     "grade_id": "cell-d36b71995b5c7190",
     "locked": false,
     "schema_version": 3,
     "solution": true,
     "task": false
    },
    "tags": []
   },
   "outputs": [],
   "source": [
    "def derivatives_numerically(x, h):\n",
    "    \"\"\" \n",
    "    Derivatives of dynamic functin and measurement function by using numerical finite differences \n",
    "    -------\n",
    "    Input:\n",
    "        x: state\n",
    "        h: step size\n",
    "    Output:\n",
    "        Fx_n: value of numerical derivative of the dynamic function tanh(.) at state x\n",
    "        Gx_n: value of numerical derivative of the measurement function sin(.) at state x\n",
    "        \n",
    "    \"\"\"\n",
    "    # YOUR CODE HERE\n",
    "    raise NotImplementedError()\n",
    "    return Fx_n, Gx_n # do not change this line"
   ]
  },
  {
   "cell_type": "code",
   "execution_count": null,
   "id": "6d0cf17e-6030-4011-8119-49ab9894074d",
   "metadata": {
    "deletable": false,
    "editable": false,
    "nbgrader": {
     "cell_type": "code",
     "checksum": "8d75332b180c9e87efeb1b7293d9281c",
     "grade": true,
     "grade_id": "cell-7621593a7dca867a",
     "locked": true,
     "points": 1,
     "schema_version": 3,
     "solution": false,
     "task": false
    },
    "tags": []
   },
   "outputs": [],
   "source": [
    "assert np.allclose(derivatives_numerically(0.0, 0.5), (0.924, 0.958), rtol=1e-03, atol=1e-04)\n",
    "assert np.allclose(derivatives_numerically(0.0, 1e-6), (0.999, 0.999), rtol=1e-03, atol=1e-04)\n",
    "assert np.allclose(derivatives_numerically(-np.pi/2, 1e-6), (0.159, 5e-7), rtol=1e-03, atol=1e-04)\n"
   ]
  },
  {
   "cell_type": "markdown",
   "id": "e949f750-63a3-4b97-a8d8-3c6dafa41901",
   "metadata": {},
   "source": [
    "### Part c (1 point): Implement and run EKF for the model. Plot the results.\n",
    "#### Note: the input of the following \"Extended_Kalman_Filter\" function is only the measurements. Please do not change that and define any nesessary parameters inside the function.\n",
    "\n",
    "#### The output should be Extended Kalman filter means and covariances of the whole trajectory."
   ]
  },
  {
   "cell_type": "code",
   "execution_count": null,
   "id": "5f5f5385-bdb1-4bfe-8489-1a6cda283aa0",
   "metadata": {
    "deletable": false,
    "nbgrader": {
     "cell_type": "code",
     "checksum": "de09344ae5c631f8f4a0523f49f3bfc2",
     "grade": false,
     "grade_id": "cell-30d07a0df6d49020",
     "locked": false,
     "schema_version": 3,
     "solution": true,
     "task": false
    },
    "tags": []
   },
   "outputs": [],
   "source": [
    "def Extended_Kalman_Filter(Y):\n",
    "    \"\"\" \n",
    "    Extended Kalman filter state estimation for 1D non-linear state space model\n",
    "    \n",
    "    -------\n",
    "    Input:\n",
    "        Y: measurements\n",
    "    Output:\n",
    "        mean_ekf: Extended Kalman filter mean estimation\n",
    "        cov_ekf: Extended Kalman filter covariance estimation\n",
    "        \n",
    "    \"\"\"\n",
    "    steps = Y.shape[0]\n",
    "    mean_ekf = np.zeros((steps, 1))      # do not change this line\n",
    "    cov_ekf = np.zeros((steps, 1, 1))    # do not change this line\n",
    "    # YOUR CODE HERE\n",
    "    raise NotImplementedError()\n",
    "    return mean_ekf, cov_ekf # do not change this line"
   ]
  },
  {
   "cell_type": "code",
   "execution_count": null,
   "id": "3d5e680d-138c-4049-8e97-d94884cc1d73",
   "metadata": {
    "deletable": false,
    "editable": false,
    "nbgrader": {
     "cell_type": "code",
     "checksum": "bd74dd778f4f21a4e798fd500670d348",
     "grade": true,
     "grade_id": "cell-f8d9ff977eacf8e4",
     "locked": true,
     "points": 1,
     "schema_version": 3,
     "solution": false,
     "task": false
    },
    "tags": []
   },
   "outputs": [],
   "source": []
  },
  {
   "cell_type": "markdown",
   "id": "335d8160-b02a-4b2a-92d4-4917cfdc4ffb",
   "metadata": {},
   "source": [
    "Feel free to uncomment and run the given code below."
   ]
  },
  {
   "cell_type": "code",
   "execution_count": null,
   "id": "a7481b76-3159-44f6-b094-5a73ff03ee7f",
   "metadata": {
    "tags": []
   },
   "outputs": [],
   "source": [
    "# observations =  model_simulation(1, 100)[1]\n",
    "# x_ekf, cov_ekf = Extended_Kalman_Filter(observations)\n",
    "# plt.figure(figsize=(15,6))\n",
    "# plt.plot(model_simulation(1, 100)[0], label='true state')\n",
    "# plt.plot(x_ekf[:,0], 'r--', label='EKF estimation')\n",
    "# plt.legend()\n",
    "# plt.grid();"
   ]
  },
  {
   "cell_type": "code",
   "execution_count": null,
   "id": "8006fd63-9235-4e42-8258-756b659ac071",
   "metadata": {},
   "outputs": [],
   "source": []
  }
 ],
 "metadata": {
  "kernelspec": {
   "display_name": "Python 3",
   "language": "python",
   "name": "python3"
  },
  "language_info": {
   "codemirror_mode": {
    "name": "ipython",
    "version": 3
   },
   "file_extension": ".py",
   "mimetype": "text/x-python",
   "name": "python",
   "nbconvert_exporter": "python",
   "pygments_lexer": "ipython3",
   "version": "3.10.8"
  }
 },
 "nbformat": 4,
 "nbformat_minor": 5
}
